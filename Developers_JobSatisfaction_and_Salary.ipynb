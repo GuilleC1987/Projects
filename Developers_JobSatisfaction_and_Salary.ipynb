{
 "cells": [
  {
   "cell_type": "markdown",
   "id": "6ba09ac7",
   "metadata": {},
   "source": [
    "# Project: Write a Data Science Blog Post"
   ]
  },
  {
   "cell_type": "markdown",
   "id": "d6d99c2e",
   "metadata": {},
   "source": [
    "The data obtained from the stack overflow survey can provide relevant insights for students, since based on the experiences and perceptions of developers, relevant conclusions can be drawn about the current state of each specialization. The following lines of code will seek to answer three questions of interest to new developers:\n",
    "\n",
    "    - What is the most popular type of developer?: Ranking of the most popular types of developers.\n",
    "    - What type of developers are most satisfied with their job?: Of all the types who are the most satisfied whit their jobs,\n",
    "    - How about the salary?: Are the most satisfied whit their jobs better paid?"
   ]
  },
  {
   "cell_type": "markdown",
   "id": "7cfecab4",
   "metadata": {},
   "source": [
    "First is neccesary to import the following packages"
   ]
  },
  {
   "cell_type": "code",
   "execution_count": 159,
   "id": "76bfb260",
   "metadata": {},
   "outputs": [],
   "source": [
    "import numpy as np\n",
    "import pandas as pd\n",
    "import matplotlib.pyplot as plt\n",
    "%matplotlib inline\n",
    "from collections import defaultdict\n",
    "pd.options.mode.chained_assignment = None  # default='warn'"
   ]
  },
  {
   "cell_type": "markdown",
   "id": "63562fcd",
   "metadata": {},
   "source": [
    "### Gather Data"
   ]
  },
  {
   "cell_type": "markdown",
   "id": "d03b0bbe",
   "metadata": {},
   "source": [
    "Importing the cvs files downloaded from https://www.kaggle.com/datasets/stackoverflow/so-survey-2017"
   ]
  },
  {
   "cell_type": "code",
   "execution_count": 160,
   "id": "1614573c",
   "metadata": {},
   "outputs": [
    {
     "data": {
      "text/html": [
       "<div>\n",
       "<style scoped>\n",
       "    .dataframe tbody tr th:only-of-type {\n",
       "        vertical-align: middle;\n",
       "    }\n",
       "\n",
       "    .dataframe tbody tr th {\n",
       "        vertical-align: top;\n",
       "    }\n",
       "\n",
       "    .dataframe thead th {\n",
       "        text-align: right;\n",
       "    }\n",
       "</style>\n",
       "<table border=\"1\" class=\"dataframe\">\n",
       "  <thead>\n",
       "    <tr style=\"text-align: right;\">\n",
       "      <th></th>\n",
       "      <th>Respondent</th>\n",
       "      <th>Professional</th>\n",
       "      <th>ProgramHobby</th>\n",
       "      <th>Country</th>\n",
       "      <th>University</th>\n",
       "      <th>EmploymentStatus</th>\n",
       "      <th>FormalEducation</th>\n",
       "      <th>MajorUndergrad</th>\n",
       "      <th>HomeRemote</th>\n",
       "      <th>CompanySize</th>\n",
       "      <th>...</th>\n",
       "      <th>StackOverflowMakeMoney</th>\n",
       "      <th>Gender</th>\n",
       "      <th>HighestEducationParents</th>\n",
       "      <th>Race</th>\n",
       "      <th>SurveyLong</th>\n",
       "      <th>QuestionsInteresting</th>\n",
       "      <th>QuestionsConfusing</th>\n",
       "      <th>InterestedAnswers</th>\n",
       "      <th>Salary</th>\n",
       "      <th>ExpectedSalary</th>\n",
       "    </tr>\n",
       "  </thead>\n",
       "  <tbody>\n",
       "    <tr>\n",
       "      <th>0</th>\n",
       "      <td>1</td>\n",
       "      <td>Student</td>\n",
       "      <td>Yes, both</td>\n",
       "      <td>United States</td>\n",
       "      <td>No</td>\n",
       "      <td>Not employed, and not looking for work</td>\n",
       "      <td>Secondary school</td>\n",
       "      <td>NaN</td>\n",
       "      <td>NaN</td>\n",
       "      <td>NaN</td>\n",
       "      <td>...</td>\n",
       "      <td>Strongly disagree</td>\n",
       "      <td>Male</td>\n",
       "      <td>High school</td>\n",
       "      <td>White or of European descent</td>\n",
       "      <td>Strongly disagree</td>\n",
       "      <td>Strongly agree</td>\n",
       "      <td>Disagree</td>\n",
       "      <td>Strongly agree</td>\n",
       "      <td>NaN</td>\n",
       "      <td>NaN</td>\n",
       "    </tr>\n",
       "    <tr>\n",
       "      <th>1</th>\n",
       "      <td>2</td>\n",
       "      <td>Student</td>\n",
       "      <td>Yes, both</td>\n",
       "      <td>United Kingdom</td>\n",
       "      <td>Yes, full-time</td>\n",
       "      <td>Employed part-time</td>\n",
       "      <td>Some college/university study without earning ...</td>\n",
       "      <td>Computer science or software engineering</td>\n",
       "      <td>More than half, but not all, the time</td>\n",
       "      <td>20 to 99 employees</td>\n",
       "      <td>...</td>\n",
       "      <td>Strongly disagree</td>\n",
       "      <td>Male</td>\n",
       "      <td>A master's degree</td>\n",
       "      <td>White or of European descent</td>\n",
       "      <td>Somewhat agree</td>\n",
       "      <td>Somewhat agree</td>\n",
       "      <td>Disagree</td>\n",
       "      <td>Strongly agree</td>\n",
       "      <td>NaN</td>\n",
       "      <td>37500.0</td>\n",
       "    </tr>\n",
       "    <tr>\n",
       "      <th>2</th>\n",
       "      <td>3</td>\n",
       "      <td>Professional developer</td>\n",
       "      <td>Yes, both</td>\n",
       "      <td>United Kingdom</td>\n",
       "      <td>No</td>\n",
       "      <td>Employed full-time</td>\n",
       "      <td>Bachelor's degree</td>\n",
       "      <td>Computer science or software engineering</td>\n",
       "      <td>Less than half the time, but at least one day ...</td>\n",
       "      <td>10,000 or more employees</td>\n",
       "      <td>...</td>\n",
       "      <td>Disagree</td>\n",
       "      <td>Male</td>\n",
       "      <td>A professional degree</td>\n",
       "      <td>White or of European descent</td>\n",
       "      <td>Somewhat agree</td>\n",
       "      <td>Agree</td>\n",
       "      <td>Disagree</td>\n",
       "      <td>Agree</td>\n",
       "      <td>113750.0</td>\n",
       "      <td>NaN</td>\n",
       "    </tr>\n",
       "    <tr>\n",
       "      <th>3</th>\n",
       "      <td>4</td>\n",
       "      <td>Professional non-developer who sometimes write...</td>\n",
       "      <td>Yes, both</td>\n",
       "      <td>United States</td>\n",
       "      <td>No</td>\n",
       "      <td>Employed full-time</td>\n",
       "      <td>Doctoral degree</td>\n",
       "      <td>A non-computer-focused engineering discipline</td>\n",
       "      <td>Less than half the time, but at least one day ...</td>\n",
       "      <td>10,000 or more employees</td>\n",
       "      <td>...</td>\n",
       "      <td>Disagree</td>\n",
       "      <td>Male</td>\n",
       "      <td>A doctoral degree</td>\n",
       "      <td>White or of European descent</td>\n",
       "      <td>Agree</td>\n",
       "      <td>Agree</td>\n",
       "      <td>Somewhat agree</td>\n",
       "      <td>Strongly agree</td>\n",
       "      <td>NaN</td>\n",
       "      <td>NaN</td>\n",
       "    </tr>\n",
       "    <tr>\n",
       "      <th>4</th>\n",
       "      <td>5</td>\n",
       "      <td>Professional developer</td>\n",
       "      <td>Yes, I program as a hobby</td>\n",
       "      <td>Switzerland</td>\n",
       "      <td>No</td>\n",
       "      <td>Employed full-time</td>\n",
       "      <td>Master's degree</td>\n",
       "      <td>Computer science or software engineering</td>\n",
       "      <td>Never</td>\n",
       "      <td>10 to 19 employees</td>\n",
       "      <td>...</td>\n",
       "      <td>NaN</td>\n",
       "      <td>NaN</td>\n",
       "      <td>NaN</td>\n",
       "      <td>NaN</td>\n",
       "      <td>NaN</td>\n",
       "      <td>NaN</td>\n",
       "      <td>NaN</td>\n",
       "      <td>NaN</td>\n",
       "      <td>NaN</td>\n",
       "      <td>NaN</td>\n",
       "    </tr>\n",
       "  </tbody>\n",
       "</table>\n",
       "<p>5 rows × 154 columns</p>\n",
       "</div>"
      ],
      "text/plain": [
       "   Respondent                                       Professional  \\\n",
       "0           1                                            Student   \n",
       "1           2                                            Student   \n",
       "2           3                             Professional developer   \n",
       "3           4  Professional non-developer who sometimes write...   \n",
       "4           5                             Professional developer   \n",
       "\n",
       "                ProgramHobby         Country      University  \\\n",
       "0                  Yes, both   United States              No   \n",
       "1                  Yes, both  United Kingdom  Yes, full-time   \n",
       "2                  Yes, both  United Kingdom              No   \n",
       "3                  Yes, both   United States              No   \n",
       "4  Yes, I program as a hobby     Switzerland              No   \n",
       "\n",
       "                         EmploymentStatus  \\\n",
       "0  Not employed, and not looking for work   \n",
       "1                      Employed part-time   \n",
       "2                      Employed full-time   \n",
       "3                      Employed full-time   \n",
       "4                      Employed full-time   \n",
       "\n",
       "                                     FormalEducation  \\\n",
       "0                                   Secondary school   \n",
       "1  Some college/university study without earning ...   \n",
       "2                                  Bachelor's degree   \n",
       "3                                    Doctoral degree   \n",
       "4                                    Master's degree   \n",
       "\n",
       "                                  MajorUndergrad  \\\n",
       "0                                            NaN   \n",
       "1       Computer science or software engineering   \n",
       "2       Computer science or software engineering   \n",
       "3  A non-computer-focused engineering discipline   \n",
       "4       Computer science or software engineering   \n",
       "\n",
       "                                          HomeRemote  \\\n",
       "0                                                NaN   \n",
       "1              More than half, but not all, the time   \n",
       "2  Less than half the time, but at least one day ...   \n",
       "3  Less than half the time, but at least one day ...   \n",
       "4                                              Never   \n",
       "\n",
       "                CompanySize  ... StackOverflowMakeMoney Gender  \\\n",
       "0                       NaN  ...      Strongly disagree   Male   \n",
       "1        20 to 99 employees  ...      Strongly disagree   Male   \n",
       "2  10,000 or more employees  ...               Disagree   Male   \n",
       "3  10,000 or more employees  ...               Disagree   Male   \n",
       "4        10 to 19 employees  ...                    NaN    NaN   \n",
       "\n",
       "  HighestEducationParents                          Race         SurveyLong  \\\n",
       "0             High school  White or of European descent  Strongly disagree   \n",
       "1       A master's degree  White or of European descent     Somewhat agree   \n",
       "2   A professional degree  White or of European descent     Somewhat agree   \n",
       "3       A doctoral degree  White or of European descent              Agree   \n",
       "4                     NaN                           NaN                NaN   \n",
       "\n",
       "  QuestionsInteresting QuestionsConfusing InterestedAnswers    Salary  \\\n",
       "0       Strongly agree           Disagree    Strongly agree       NaN   \n",
       "1       Somewhat agree           Disagree    Strongly agree       NaN   \n",
       "2                Agree           Disagree             Agree  113750.0   \n",
       "3                Agree     Somewhat agree    Strongly agree       NaN   \n",
       "4                  NaN                NaN               NaN       NaN   \n",
       "\n",
       "   ExpectedSalary  \n",
       "0             NaN  \n",
       "1         37500.0  \n",
       "2             NaN  \n",
       "3             NaN  \n",
       "4             NaN  \n",
       "\n",
       "[5 rows x 154 columns]"
      ]
     },
     "execution_count": 160,
     "metadata": {},
     "output_type": "execute_result"
    }
   ],
   "source": [
    "#Reading files\n",
    "df = pd.read_csv('C:/Users/50304252/Documents/Proyectos_Udacity/Datasets/StackOverflow_Dataset/survey_results_public.csv')\n",
    "schema = pd.read_csv('C:/Users/50304252/Documents/Proyectos_Udacity/Datasets/StackOverflow_Dataset/survey_results_schema.csv')\n",
    "df.head()"
   ]
  },
  {
   "cell_type": "markdown",
   "id": "f41e62d7",
   "metadata": {},
   "source": [
    "### Assess Data"
   ]
  },
  {
   "cell_type": "markdown",
   "id": "bb6ae5f5",
   "metadata": {},
   "source": [
    "How many rows and columns are in df:"
   ]
  },
  {
   "cell_type": "code",
   "execution_count": 161,
   "id": "9ac57edf",
   "metadata": {},
   "outputs": [
    {
     "data": {
      "text/plain": [
       "(51392, 154)"
      ]
     },
     "execution_count": 161,
     "metadata": {},
     "output_type": "execute_result"
    }
   ],
   "source": [
    "df.shape"
   ]
  },
  {
   "cell_type": "markdown",
   "id": "7a06920f",
   "metadata": {},
   "source": [
    "Which columns had no missing values? Set of column names that have no missing values."
   ]
  },
  {
   "cell_type": "code",
   "execution_count": 162,
   "id": "9e891128",
   "metadata": {},
   "outputs": [
    {
     "data": {
      "text/plain": [
       "Respondent               True\n",
       "Professional             True\n",
       "ProgramHobby             True\n",
       "Country                  True\n",
       "University               True\n",
       "                        ...  \n",
       "QuestionsInteresting    False\n",
       "QuestionsConfusing      False\n",
       "InterestedAnswers       False\n",
       "Salary                  False\n",
       "ExpectedSalary          False\n",
       "Length: 154, dtype: bool"
      ]
     },
     "execution_count": 162,
     "metadata": {},
     "output_type": "execute_result"
    }
   ],
   "source": [
    "np.sum(df.isnull()) == 0"
   ]
  },
  {
   "cell_type": "markdown",
   "id": "022728ac",
   "metadata": {},
   "source": [
    "How many missing values are in each column."
   ]
  },
  {
   "cell_type": "code",
   "execution_count": 163,
   "id": "dbc8a48e",
   "metadata": {},
   "outputs": [
    {
     "data": {
      "text/plain": [
       "Respondent                  0\n",
       "Professional                0\n",
       "ProgramHobby                0\n",
       "Country                     0\n",
       "University                  0\n",
       "                        ...  \n",
       "QuestionsInteresting    16856\n",
       "QuestionsConfusing      16973\n",
       "InterestedAnswers       16780\n",
       "Salary                  38501\n",
       "ExpectedSalary          48826\n",
       "Length: 154, dtype: int64"
      ]
     },
     "execution_count": 163,
     "metadata": {},
     "output_type": "execute_result"
    }
   ],
   "source": [
    "np.sum(df.isnull())"
   ]
  },
  {
   "cell_type": "markdown",
   "id": "f8072601",
   "metadata": {},
   "source": [
    "The only columns with no nan values are the following"
   ]
  },
  {
   "cell_type": "code",
   "execution_count": 164,
   "id": "63a75f95",
   "metadata": {},
   "outputs": [
    {
     "data": {
      "text/plain": [
       "{'Country',\n",
       " 'EmploymentStatus',\n",
       " 'FormalEducation',\n",
       " 'Professional',\n",
       " 'ProgramHobby',\n",
       " 'Respondent',\n",
       " 'University'}"
      ]
     },
     "execution_count": 164,
     "metadata": {},
     "output_type": "execute_result"
    }
   ],
   "source": [
    "no_nulls = set(df.columns[np.sum(df.isnull())==0])\n",
    "no_nulls"
   ]
  },
  {
   "cell_type": "markdown",
   "id": "c29a58a6",
   "metadata": {},
   "source": [
    "### Clean Data"
   ]
  },
  {
   "cell_type": "markdown",
   "id": "22a0513f",
   "metadata": {},
   "source": [
    "To answer the questions we need three columns; DeveloperType, JobSatisfaction and Salary. In the next line we took only this three columns for the analysis."
   ]
  },
  {
   "cell_type": "code",
   "execution_count": 165,
   "id": "cdf7eba3",
   "metadata": {},
   "outputs": [],
   "source": [
    "#Selecting columns of interest and cleaning Na values\n",
    "df = df[['DeveloperType', 'JobSatisfaction', 'Salary']]"
   ]
  },
  {
   "cell_type": "markdown",
   "id": "9bff4db5",
   "metadata": {},
   "source": [
    "#### Approach to handle missing values"
   ]
  },
  {
   "cell_type": "markdown",
   "id": "c014efe0",
   "metadata": {},
   "source": [
    "\n",
    "- The selected approach to mannage na values is to drop to avoid errors or biases that may arise when imputing or replacing missing values and preserve the original distribution and variance of the data.\n",
    "\n",
    "- Finalmente, al ser este un analisis exploratorio no predictivo, no se corre el riesgo de contar con data set de entrenamiento y prueba muy pequeño"
   ]
  },
  {
   "cell_type": "code",
   "execution_count": 166,
   "id": "08ba38c1",
   "metadata": {},
   "outputs": [],
   "source": [
    "df = df.dropna()"
   ]
  },
  {
   "cell_type": "markdown",
   "id": "760af477",
   "metadata": {},
   "source": [
    "Looking into DeveloperType column, many respondents identified whit many categories.\n",
    "To know the popularity of every kind of developer is necessary to separate answers"
   ]
  },
  {
   "cell_type": "code",
   "execution_count": 167,
   "id": "43f23023",
   "metadata": {},
   "outputs": [
    {
     "data": {
      "text/html": [
       "<div>\n",
       "<style scoped>\n",
       "    .dataframe tbody tr th:only-of-type {\n",
       "        vertical-align: middle;\n",
       "    }\n",
       "\n",
       "    .dataframe tbody tr th {\n",
       "        vertical-align: top;\n",
       "    }\n",
       "\n",
       "    .dataframe thead th {\n",
       "        text-align: right;\n",
       "    }\n",
       "</style>\n",
       "<table border=\"1\" class=\"dataframe\">\n",
       "  <thead>\n",
       "    <tr style=\"text-align: right;\">\n",
       "      <th></th>\n",
       "      <th>index</th>\n",
       "      <th>DeveloperType</th>\n",
       "    </tr>\n",
       "  </thead>\n",
       "  <tbody>\n",
       "    <tr>\n",
       "      <th>0</th>\n",
       "      <td>Web developer</td>\n",
       "      <td>3974</td>\n",
       "    </tr>\n",
       "    <tr>\n",
       "      <th>1</th>\n",
       "      <td>Web developer; Desktop applications developer</td>\n",
       "      <td>673</td>\n",
       "    </tr>\n",
       "    <tr>\n",
       "      <th>2</th>\n",
       "      <td>Desktop applications developer</td>\n",
       "      <td>539</td>\n",
       "    </tr>\n",
       "    <tr>\n",
       "      <th>3</th>\n",
       "      <td>Mobile developer</td>\n",
       "      <td>530</td>\n",
       "    </tr>\n",
       "    <tr>\n",
       "      <th>4</th>\n",
       "      <td>Web developer; Mobile developer</td>\n",
       "      <td>509</td>\n",
       "    </tr>\n",
       "    <tr>\n",
       "      <th>...</th>\n",
       "      <td>...</td>\n",
       "      <td>...</td>\n",
       "    </tr>\n",
       "    <tr>\n",
       "      <th>955</th>\n",
       "      <td>Developer with a statistics or mathematics bac...</td>\n",
       "      <td>1</td>\n",
       "    </tr>\n",
       "    <tr>\n",
       "      <th>956</th>\n",
       "      <td>Embedded applications/devices developer; Deskt...</td>\n",
       "      <td>1</td>\n",
       "    </tr>\n",
       "    <tr>\n",
       "      <th>957</th>\n",
       "      <td>Web developer; Embedded applications/devices d...</td>\n",
       "      <td>1</td>\n",
       "    </tr>\n",
       "    <tr>\n",
       "      <th>958</th>\n",
       "      <td>Web developer; Machine learning specialist; De...</td>\n",
       "      <td>1</td>\n",
       "    </tr>\n",
       "    <tr>\n",
       "      <th>959</th>\n",
       "      <td>Mobile developer; DevOps specialist</td>\n",
       "      <td>1</td>\n",
       "    </tr>\n",
       "  </tbody>\n",
       "</table>\n",
       "<p>960 rows × 2 columns</p>\n",
       "</div>"
      ],
      "text/plain": [
       "                                                 index  DeveloperType\n",
       "0                                        Web developer           3974\n",
       "1        Web developer; Desktop applications developer            673\n",
       "2                       Desktop applications developer            539\n",
       "3                                     Mobile developer            530\n",
       "4                      Web developer; Mobile developer            509\n",
       "..                                                 ...            ...\n",
       "955  Developer with a statistics or mathematics bac...              1\n",
       "956  Embedded applications/devices developer; Deskt...              1\n",
       "957  Web developer; Embedded applications/devices d...              1\n",
       "958  Web developer; Machine learning specialist; De...              1\n",
       "959                Mobile developer; DevOps specialist              1\n",
       "\n",
       "[960 rows x 2 columns]"
      ]
     },
     "execution_count": 167,
     "metadata": {},
     "output_type": "execute_result"
    }
   ],
   "source": [
    "#Looking into DeveloperType column, many respondents identified whit many categories.\n",
    "#To know the popularity of every kind of developer is necessary to separate answers\n",
    "DevType = df['DeveloperType'].value_counts().reset_index()\n",
    "DevType"
   ]
  },
  {
   "cell_type": "markdown",
   "id": "89f6ec1c",
   "metadata": {},
   "source": [
    "### Analyze and Model"
   ]
  },
  {
   "cell_type": "markdown",
   "id": "f37e7b83",
   "metadata": {},
   "source": [
    "In the next cells we define two functions to help in the process of separte and quantify the kinds the answers in the columns DeveloperType with the function total_func an plot the results with the function clean_and_plot."
   ]
  },
  {
   "cell_type": "code",
   "execution_count": 168,
   "id": "e1cf3ecf",
   "metadata": {},
   "outputs": [],
   "source": [
    "# All te possible types of developer\n",
    "possible_vals = ['Web developer','Mobile developer','Desktop applications developer','Other',\n",
    "                 'Embedded applications/devices developer','Developer with a statistics or mathematics background',\n",
    "                 'Data scientist','DevOps specialist','Quality assurance engineer','Machine learning specialist',\n",
    "                 'Graphics programming','Database administrator','Systems administrator','Graphic designer']\n",
    "\n",
    "#function to  separate types of developer\n",
    "def total_func(df, col1, col2, look_for):\n",
    "    '''\n",
    "    INPUT:\n",
    "    df - the pandas dataframe you want to search\n",
    "    col1 - the column name you want to look through\n",
    "    col2 - the column you want to count/sum values from\n",
    "    look_for - a list of strings you want to search for in each row of df[col]\n",
    "\n",
    "    OUTPUT:\n",
    "    new_df - a dataframe of each look_for with the count or sum of df[col2]\n",
    "    '''\n",
    "    new_df = defaultdict(int)\n",
    "    #loop through list of ed types\n",
    "    for val in look_for:\n",
    "        #loop through rows\n",
    "        for idx in range(df.shape[0]):\n",
    "            #if the value is in the row add 1\n",
    "            if val in df[col1][idx]:\n",
    "                new_df[val] += int(df[col2][idx])\n",
    "\n",
    "                \n",
    "    new_df = pd.DataFrame(pd.Series(new_df)).reset_index()\n",
    "    new_df.columns = [col1, col2]\n",
    "    new_df.sort_values(col2, ascending=False, inplace=True)\n",
    "    return new_df\n"
   ]
  },
  {
   "cell_type": "code",
   "execution_count": 169,
   "id": "d2234a09",
   "metadata": {},
   "outputs": [],
   "source": [
    "#fuction to plot new df\n",
    "def clean_and_plot(df, title, plot=True):\n",
    "    '''\n",
    "    INPUT \n",
    "        df - a dataframe holding the column name you want to look through\n",
    "        title - string the title of your plot   \n",
    "        axis - axis object\n",
    "        plot - bool providing whether or not you want a plot back\n",
    "        \n",
    "    OUTPUT\n",
    "        DevTypes_df - a dataframe with the count/sum of col2\n",
    "    '''\n",
    "\n",
    "    df.set_index(list(df.columns)[0], inplace=True)\n",
    "    if plot:\n",
    "        (df/df.sum()).plot(kind='bar', legend=None);\n",
    "        plt.title(title);\n",
    "        plt.show()\n",
    "    props_DevTypes_df = df/df.sum()\n",
    "    return props_DevTypes_df\n",
    "    \n"
   ]
  },
  {
   "cell_type": "markdown",
   "id": "3c822ebc",
   "metadata": {},
   "source": [
    "In the next  cell using the function total_func we creat a DevTypes_df Data Frame, in this we want to quantify the total developers per type."
   ]
  },
  {
   "cell_type": "code",
   "execution_count": 184,
   "id": "f26b8d17",
   "metadata": {},
   "outputs": [],
   "source": [
    "#Creating DevTypes_df to group echar type of developer and their popularity\n",
    "Count_DevType = df['DeveloperType'].value_counts().reset_index()\n",
    "#Renamming columns\n",
    "Count_DevType.rename(columns={'index': 'Developer', 'DeveloperType': 'Count'}, inplace=True)\n",
    "#Ussing total_func to separte each type developer in every respondent answer\n",
    "DevTypes_df = total_func(Count_DevType, 'Developer', 'Count', possible_vals)"
   ]
  },
  {
   "cell_type": "markdown",
   "id": "cf41c5d7",
   "metadata": {},
   "source": [
    "In the next  cell using the function total_func we creat a JobS_DevType_df Data Frame, in this we want to know the average job satisfaction for each developer.\n",
    "Then we merge this new data frame with DevTypes_df_idx (same data frame DevTypes_df with reset index)"
   ]
  },
  {
   "cell_type": "code",
   "execution_count": 186,
   "id": "d5052e4f",
   "metadata": {},
   "outputs": [],
   "source": [
    "#Reset index DevTypes_df, Developer column must be new index to use merge method.\n",
    "DevTypes_df_idx = DevTypes_df.set_index('Developer')\n",
    "\n",
    "#Creating JobS_DevType df to know job satisfaction of each type of developer\n",
    "JobS_DevType = df.groupby('DeveloperType')['JobSatisfaction'].sum().reset_index()\n",
    "\n",
    "#We rename columns using the rename method\n",
    "JobS_DevType.rename(columns={'DeveloperType': 'Developer', 'JobSatisfaction': 'JobSatisfaction_Sum'}, inplace=True)\n",
    "\n",
    "#Using total_func function to sum all the job satisfacction answers.\n",
    "JobS_DevType_df = total_func(JobS_DevType, 'Developer', 'JobSatisfaction_Sum', possible_vals)\n",
    "\n",
    "#Set new index\n",
    "JobS_DevType_df.set_index('Developer', inplace = True)\n",
    "\n",
    "#Merging DevTypes_df and JobS_DevType into df_f\n",
    "df_f = pd.merge(DevTypes_df_idx,JobS_DevType_df,left_index=True, right_index=True)\n",
    "\n",
    "#Calculating job satisfaction average, JobSatisfaction_Sum / total Respondent\n",
    "df_f['Avg_JobSatisfaction'] = df_f['JobSatisfaction_Sum'] / df_f ['Count']"
   ]
  },
  {
   "cell_type": "code",
   "execution_count": 189,
   "id": "fc02b21b",
   "metadata": {},
   "outputs": [],
   "source": [
    "#Creating Salary_DevType_df df to know job salary of each type of developer\n",
    "Salary_DevType = df.groupby('DeveloperType')['Salary'].sum().reset_index()\n",
    "\n",
    "#We rename columns using the rename method\n",
    "Salary_DevType.rename(columns={'DeveloperType': 'Developer', 'Salary': 'Salary_Sum'}, inplace=True)\n",
    "\n",
    "#Using total_func function to sum all the salaries answers.\n",
    "Salary_DevType_df = total_func(Salary_DevType, 'Developer', 'Salary_Sum', possible_vals)\n",
    "\n",
    "#Set new index\n",
    "Salary_DevType_df.set_index('Developer', inplace = True)\n",
    "\n",
    "#Mergin Salary_DevType_df and df_f and creating df_final\n",
    "df_final = pd.merge(df_f,Salary_DevType_df,left_index=True, right_index=True)\n",
    "df_final['Avg_Salary_per_Type'] = df_final['Salary_Sum']/df_final['Count']"
   ]
  },
  {
   "cell_type": "code",
   "execution_count": 190,
   "id": "6ee1ffb0",
   "metadata": {},
   "outputs": [],
   "source": [
    "#Calculating average salary of each kind of developer\n",
    "df_final['Avg_Salary_Total'] = df_final['Avg_Salary_per_Type'].mean()\n",
    "df_final['Dif_avg_salary'] =  df_final['Avg_Salary_per_Type'] - df_final['Avg_Salary_Total'] \n",
    "df_final['%Dif_avg_salary'] = df_final['Dif_avg_salary']/df_final['Avg_Salary_per_Type']"
   ]
  },
  {
   "cell_type": "markdown",
   "id": "6745b603",
   "metadata": {},
   "source": [
    "## Visualize"
   ]
  },
  {
   "cell_type": "markdown",
   "id": "56c8bb67",
   "metadata": {},
   "source": [
    "### What is the most popular type of developer?\n"
   ]
  },
  {
   "cell_type": "markdown",
   "id": "b03440e6",
   "metadata": {},
   "source": [
    "To answer this question it was necessary to separete the differente categories of developpers answer by the respondante. Using total_func and clean_and_plot we can achive that. Then we plot the results."
   ]
  },
  {
   "cell_type": "code",
   "execution_count": 194,
   "id": "a327fe92",
   "metadata": {},
   "outputs": [
    {
     "data": {
      "image/png": "[encoded data removed]",
      "text/plain": [
       "<Figure size 640x480 with 1 Axes>"
      ]
     },
     "metadata": {},
     "output_type": "display_data"
    },
    {
     "data": {
      "text/html": [
       "<div>\n",
       "<style scoped>\n",
       "    .dataframe tbody tr th:only-of-type {\n",
       "        vertical-align: middle;\n",
       "    }\n",
       "\n",
       "    .dataframe tbody tr th {\n",
       "        vertical-align: top;\n",
       "    }\n",
       "\n",
       "    .dataframe thead th {\n",
       "        text-align: right;\n",
       "    }\n",
       "</style>\n",
       "<table border=\"1\" class=\"dataframe\">\n",
       "  <thead>\n",
       "    <tr style=\"text-align: right;\">\n",
       "      <th></th>\n",
       "      <th>Count</th>\n",
       "    </tr>\n",
       "    <tr>\n",
       "      <th>Developer</th>\n",
       "      <th></th>\n",
       "    </tr>\n",
       "  </thead>\n",
       "  <tbody>\n",
       "    <tr>\n",
       "      <th>Web developer</th>\n",
       "      <td>0.352840</td>\n",
       "    </tr>\n",
       "    <tr>\n",
       "      <th>Desktop applications developer</th>\n",
       "      <td>0.137345</td>\n",
       "    </tr>\n",
       "    <tr>\n",
       "      <th>Mobile developer</th>\n",
       "      <td>0.101085</td>\n",
       "    </tr>\n",
       "    <tr>\n",
       "      <th>Database administrator</th>\n",
       "      <td>0.065876</td>\n",
       "    </tr>\n",
       "    <tr>\n",
       "      <th>DevOps specialist</th>\n",
       "      <td>0.057806</td>\n",
       "    </tr>\n",
       "    <tr>\n",
       "      <th>Systems administrator</th>\n",
       "      <td>0.053264</td>\n",
       "    </tr>\n",
       "    <tr>\n",
       "      <th>Developer with a statistics or mathematics background</th>\n",
       "      <td>0.050561</td>\n",
       "    </tr>\n",
       "    <tr>\n",
       "      <th>Embedded applications/devices developer</th>\n",
       "      <td>0.041965</td>\n",
       "    </tr>\n",
       "    <tr>\n",
       "      <th>Other</th>\n",
       "      <td>0.040014</td>\n",
       "    </tr>\n",
       "    <tr>\n",
       "      <th>Data scientist</th>\n",
       "      <td>0.035359</td>\n",
       "    </tr>\n",
       "    <tr>\n",
       "      <th>Graphics programming</th>\n",
       "      <td>0.018092</td>\n",
       "    </tr>\n",
       "    <tr>\n",
       "      <th>Quality assurance engineer</th>\n",
       "      <td>0.016516</td>\n",
       "    </tr>\n",
       "    <tr>\n",
       "      <th>Machine learning specialist</th>\n",
       "      <td>0.015915</td>\n",
       "    </tr>\n",
       "    <tr>\n",
       "      <th>Graphic designer</th>\n",
       "      <td>0.013363</td>\n",
       "    </tr>\n",
       "  </tbody>\n",
       "</table>\n",
       "</div>"
      ],
      "text/plain": [
       "                                                       Count\n",
       "Developer                                                   \n",
       "Web developer                                       0.352840\n",
       "Desktop applications developer                      0.137345\n",
       "Mobile developer                                    0.101085\n",
       "Database administrator                              0.065876\n",
       "DevOps specialist                                   0.057806\n",
       "Systems administrator                               0.053264\n",
       "Developer with a statistics or mathematics back...  0.050561\n",
       "Embedded applications/devices developer             0.041965\n",
       "Other                                               0.040014\n",
       "Data scientist                                      0.035359\n",
       "Graphics programming                                0.018092\n",
       "Quality assurance engineer                          0.016516\n",
       "Machine learning specialist                         0.015915\n",
       "Graphic designer                                    0.013363"
      ]
     },
     "execution_count": 194,
     "metadata": {},
     "output_type": "execute_result"
    }
   ],
   "source": [
    "title='Total% Participation of Developers by type'\n",
    "clean_and_plot(DevTypes_df,title,plot=True)"
   ]
  },
  {
   "cell_type": "markdown",
   "id": "f16f50ac",
   "metadata": {},
   "source": [
    "- There are a lot of web developers in this survey, more than a thir of the respondent."
   ]
  },
  {
   "cell_type": "markdown",
   "id": "c606e28d",
   "metadata": {},
   "source": [
    "### What type of developers are most satisfied with their job?"
   ]
  },
  {
   "cell_type": "markdown",
   "id": "d8153be0",
   "metadata": {},
   "source": [
    "To adress this question we are going create a new df df_JobSatisfaction and column Dif_Avg_Satisfaction, to measure the difference between columns Avg_JobSatisfaction minus mean value of the same column, then to help to answer the question we assign colors (negative diferece: red, developer who earn less than the average, postive diference: green, developer who earn more than the average)"
   ]
  },
  {
   "cell_type": "code",
   "execution_count": 191,
   "id": "f25b28c9",
   "metadata": {},
   "outputs": [],
   "source": [
    "#Calculating the difference between job satisfaction of each type and average job satisfaction of all respondents\n",
    "df_JobSatisfaction = df_final[['Avg_JobSatisfaction']]\n",
    "df_JobSatisfaction.loc[:,'Dif_Avg_Satisfaction'] = df_JobSatisfaction.loc[: ,'Avg_JobSatisfaction'] - df_final['Avg_JobSatisfaction'].mean()"
   ]
  },
  {
   "cell_type": "code",
   "execution_count": 192,
   "id": "a03d527f",
   "metadata": {},
   "outputs": [
    {
     "data": {
      "text/html": [
       "<style type=\"text/css\">\n",
       "#T_9a520_row0_col1 {\n",
       "  width: 10em;\n",
       "  background: linear-gradient(90deg, transparent 26.1%, #d65f5f 26.1%, #d65f5f 46.0%, transparent 46.0%);\n",
       "}\n",
       "#T_9a520_row1_col1 {\n",
       "  width: 10em;\n",
       "  background: linear-gradient(90deg, #d65f5f 46.0%, transparent 46.0%);\n",
       "}\n",
       "#T_9a520_row2_col1 {\n",
       "  width: 10em;\n",
       "  background: linear-gradient(90deg, transparent 46.0%, #5fba7d 46.0%, #5fba7d 57.6%, transparent 57.6%);\n",
       "}\n",
       "#T_9a520_row3_col1 {\n",
       "  width: 10em;\n",
       "  background: linear-gradient(90deg, transparent 6.9%, #d65f5f 6.9%, #d65f5f 46.0%, transparent 46.0%);\n",
       "}\n",
       "#T_9a520_row4_col1 {\n",
       "  width: 10em;\n",
       "  background: linear-gradient(90deg, transparent 46.0%, #5fba7d 46.0%, #5fba7d 89.5%, transparent 89.5%);\n",
       "}\n",
       "#T_9a520_row5_col1 {\n",
       "  width: 10em;\n",
       "  background: linear-gradient(90deg, transparent 20.7%, #d65f5f 20.7%, #d65f5f 46.0%, transparent 46.0%);\n",
       "}\n",
       "#T_9a520_row6_col1 {\n",
       "  width: 10em;\n",
       "  background: linear-gradient(90deg, transparent 29.3%, #d65f5f 29.3%, #d65f5f 46.0%, transparent 46.0%);\n",
       "}\n",
       "#T_9a520_row7_col1 {\n",
       "  width: 10em;\n",
       "  background: linear-gradient(90deg, transparent 11.4%, #d65f5f 11.4%, #d65f5f 46.0%, transparent 46.0%);\n",
       "}\n",
       "#T_9a520_row8_col1 {\n",
       "  width: 10em;\n",
       "  background: linear-gradient(90deg, transparent 46.0%, #5fba7d 46.0%, #5fba7d 100.0%, transparent 100.0%);\n",
       "}\n",
       "#T_9a520_row9_col1 {\n",
       "  width: 10em;\n",
       "  background: linear-gradient(90deg, transparent 46.0%, #5fba7d 46.0%, #5fba7d 84.5%, transparent 84.5%);\n",
       "}\n",
       "#T_9a520_row10_col1 {\n",
       "  width: 10em;\n",
       "  background: linear-gradient(90deg, transparent 46.0%, #5fba7d 46.0%, #5fba7d 87.0%, transparent 87.0%);\n",
       "}\n",
       "#T_9a520_row11_col1 {\n",
       "  width: 10em;\n",
       "  background: linear-gradient(90deg, transparent 34.9%, #d65f5f 34.9%, #d65f5f 46.0%, transparent 46.0%);\n",
       "}\n",
       "#T_9a520_row12_col1 {\n",
       "  width: 10em;\n",
       "  background: linear-gradient(90deg, transparent 46.0%, #5fba7d 46.0%, #5fba7d 87.7%, transparent 87.7%);\n",
       "}\n",
       "#T_9a520_row13_col1 {\n",
       "  width: 10em;\n",
       "  background: linear-gradient(90deg, transparent 7.8%, #d65f5f 7.8%, #d65f5f 46.0%, transparent 46.0%);\n",
       "}\n",
       "</style>\n",
       "<table id=\"T_9a520\">\n",
       "  <thead>\n",
       "    <tr>\n",
       "      <th class=\"blank level0\" >&nbsp;</th>\n",
       "      <th id=\"T_9a520_level0_col0\" class=\"col_heading level0 col0\" >Avg_JobSatisfaction</th>\n",
       "      <th id=\"T_9a520_level0_col1\" class=\"col_heading level0 col1\" >Dif_Avg_Satisfaction</th>\n",
       "    </tr>\n",
       "    <tr>\n",
       "      <th class=\"index_name level0\" >Developer</th>\n",
       "      <th class=\"blank col0\" >&nbsp;</th>\n",
       "      <th class=\"blank col1\" >&nbsp;</th>\n",
       "    </tr>\n",
       "  </thead>\n",
       "  <tbody>\n",
       "    <tr>\n",
       "      <th id=\"T_9a520_level0_row0\" class=\"row_heading level0 row0\" >Web developer</th>\n",
       "      <td id=\"T_9a520_row0_col0\" class=\"data row0 col0\" >6.953511</td>\n",
       "      <td id=\"T_9a520_row0_col1\" class=\"data row0 col1\" >-0.059036</td>\n",
       "    </tr>\n",
       "    <tr>\n",
       "      <th id=\"T_9a520_level0_row1\" class=\"row_heading level0 row1\" >Desktop applications developer</th>\n",
       "      <td id=\"T_9a520_row1_col0\" class=\"data row1 col0\" >6.875649</td>\n",
       "      <td id=\"T_9a520_row1_col1\" class=\"data row1 col1\" >-0.136897</td>\n",
       "    </tr>\n",
       "    <tr>\n",
       "      <th id=\"T_9a520_level0_row2\" class=\"row_heading level0 row2\" >Mobile developer</th>\n",
       "      <td id=\"T_9a520_row2_col0\" class=\"data row2 col0\" >7.047159</td>\n",
       "      <td id=\"T_9a520_row2_col1\" class=\"data row2 col1\" >0.034613</td>\n",
       "    </tr>\n",
       "    <tr>\n",
       "      <th id=\"T_9a520_level0_row3\" class=\"row_heading level0 row3\" >Database administrator</th>\n",
       "      <td id=\"T_9a520_row3_col0\" class=\"data row3 col0\" >6.896296</td>\n",
       "      <td id=\"T_9a520_row3_col1\" class=\"data row3 col1\" >-0.116250</td>\n",
       "    </tr>\n",
       "    <tr>\n",
       "      <th id=\"T_9a520_level0_row4\" class=\"row_heading level0 row4\" >DevOps specialist</th>\n",
       "      <td id=\"T_9a520_row4_col0\" class=\"data row4 col0\" >7.142208</td>\n",
       "      <td id=\"T_9a520_row4_col1\" class=\"data row4 col1\" >0.129662</td>\n",
       "    </tr>\n",
       "    <tr>\n",
       "      <th id=\"T_9a520_level0_row5\" class=\"row_heading level0 row5\" >Systems administrator</th>\n",
       "      <td id=\"T_9a520_row5_col0\" class=\"data row5 col0\" >6.937280</td>\n",
       "      <td id=\"T_9a520_row5_col1\" class=\"data row5 col1\" >-0.075266</td>\n",
       "    </tr>\n",
       "    <tr>\n",
       "      <th id=\"T_9a520_level0_row6\" class=\"row_heading level0 row6\" >Developer with a statistics or mathematics background</th>\n",
       "      <td id=\"T_9a520_row6_col0\" class=\"data row6 col0\" >6.962880</td>\n",
       "      <td id=\"T_9a520_row6_col1\" class=\"data row6 col1\" >-0.049666</td>\n",
       "    </tr>\n",
       "    <tr>\n",
       "      <th id=\"T_9a520_level0_row7\" class=\"row_heading level0 row7\" >Embedded applications/devices developer</th>\n",
       "      <td id=\"T_9a520_row7_col0\" class=\"data row7 col0\" >6.909660</td>\n",
       "      <td id=\"T_9a520_row7_col1\" class=\"data row7 col1\" >-0.102886</td>\n",
       "    </tr>\n",
       "    <tr>\n",
       "      <th id=\"T_9a520_level0_row8\" class=\"row_heading level0 row8\" >Other</th>\n",
       "      <td id=\"T_9a520_row8_col0\" class=\"data row8 col0\" >7.173546</td>\n",
       "      <td id=\"T_9a520_row8_col1\" class=\"data row8 col1\" >0.161000</td>\n",
       "    </tr>\n",
       "    <tr>\n",
       "      <th id=\"T_9a520_level0_row9\" class=\"row_heading level0 row9\" >Data scientist</th>\n",
       "      <td id=\"T_9a520_row9_col0\" class=\"data row9 col0\" >7.127389</td>\n",
       "      <td id=\"T_9a520_row9_col1\" class=\"data row9 col1\" >0.114842</td>\n",
       "    </tr>\n",
       "    <tr>\n",
       "      <th id=\"T_9a520_level0_row10\" class=\"row_heading level0 row10\" >Graphics programming</th>\n",
       "      <td id=\"T_9a520_row10_col0\" class=\"data row10 col0\" >7.134855</td>\n",
       "      <td id=\"T_9a520_row10_col1\" class=\"data row10 col1\" >0.122309</td>\n",
       "    </tr>\n",
       "    <tr>\n",
       "      <th id=\"T_9a520_level0_row11\" class=\"row_heading level0 row11\" >Quality assurance engineer</th>\n",
       "      <td id=\"T_9a520_row11_col0\" class=\"data row11 col0\" >6.979545</td>\n",
       "      <td id=\"T_9a520_row11_col1\" class=\"data row11 col1\" >-0.033001</td>\n",
       "    </tr>\n",
       "    <tr>\n",
       "      <th id=\"T_9a520_level0_row12\" class=\"row_heading level0 row12\" >Machine learning specialist</th>\n",
       "      <td id=\"T_9a520_row12_col0\" class=\"data row12 col0\" >7.136792</td>\n",
       "      <td id=\"T_9a520_row12_col1\" class=\"data row12 col1\" >0.124246</td>\n",
       "    </tr>\n",
       "    <tr>\n",
       "      <th id=\"T_9a520_level0_row13\" class=\"row_heading level0 row13\" >Graphic designer</th>\n",
       "      <td id=\"T_9a520_row13_col0\" class=\"data row13 col0\" >6.898876</td>\n",
       "      <td id=\"T_9a520_row13_col1\" class=\"data row13 col1\" >-0.113670</td>\n",
       "    </tr>\n",
       "  </tbody>\n",
       "</table>\n"
      ],
      "text/plain": [
       "<pandas.io.formats.style.Styler at 0x234a5dc2230>"
      ]
     },
     "execution_count": 192,
     "metadata": {},
     "output_type": "execute_result"
    }
   ],
   "source": [
    "df_JobSatisfaction.style.bar(subset=['Dif_Avg_Satisfaction'], align='mid', color=['#d65f5f', '#5fba7d'])"
   ]
  },
  {
   "cell_type": "markdown",
   "id": "bc11595a",
   "metadata": {},
   "source": [
    "- The top categories whit higher values of job satisfaction are: Other, DevOps specialist, Machine learning specialist, Graphics programming.\n",
    "- The categories whit less job satisfaction are: Desktop applications developer and Graphic designer\t"
   ]
  },
  {
   "cell_type": "markdown",
   "id": "5a5dcbd1",
   "metadata": {},
   "source": [
    "### How about the salary?"
   ]
  },
  {
   "cell_type": "markdown",
   "id": "079d099b",
   "metadata": {},
   "source": [
    "To answer this question we calculate de percentage difference between the average salary for each type of developer and the mean average value and plot the result."
   ]
  },
  {
   "cell_type": "code",
   "execution_count": 193,
   "id": "c156f038",
   "metadata": {},
   "outputs": [
    {
     "data": {
      "image/png": "[encoded data removed]",
      "text/plain": [
       "<Figure size 1600x1000 with 1 Axes>"
      ]
     },
     "metadata": {},
     "output_type": "display_data"
    }
   ],
   "source": [
    "#Calculating the difference between average salary of each type and average average salary of all respondents\n",
    "Developers = df_final.index\n",
    "Avg_prc_Dif = df_final['%Dif_avg_salary']\n",
    "fig, ax = plt.subplots(figsize =(16, 10))\n",
    "ax.barh(Developers, Avg_prc_Dif)\n",
    "\n",
    "ax.xaxis.set_tick_params(pad = 5)\n",
    "ax.yaxis.set_tick_params(pad = 10)\n",
    "plt.title('Diference in % between salary and industry average salary')\n",
    "for i in ax.patches:\n",
    "    plt.text(i.get_width()+0.2, i.get_y()+0.5, \n",
    "             '{:.2%}'.format(round((i.get_width()), 3)),\n",
    "    fontsize = 10, fontweight ='bold',\n",
    "    color ='black',\n",
    "    ha = 'right')"
   ]
  },
  {
   "cell_type": "markdown",
   "id": "c68a9bb6",
   "metadata": {},
   "source": [
    "- The categories whit higher earning are similar to those with higher values of job satisfaction, thera are: Other, DevOps  specialist, Machine learning specialist. \n",
    "- Graphic designers have less job satisfaction and earn much less than the average, almost 28% less.\n",
    "- Web developer are noumeroues, however they earn less than average"
   ]
  },
  {
   "cell_type": "code",
   "execution_count": null,
   "id": "9370aeb0",
   "metadata": {},
   "outputs": [],
   "source": []
  }
 ],
 "metadata": {
  "kernelspec": {
   "display_name": "Python 3 (ipykernel)",
   "language": "python",
   "name": "python3"
  },
  "language_info": {
   "codemirror_mode": {
    "name": "ipython",
    "version": 3
   },
   "file_extension": ".py",
   "mimetype": "text/x-python",
   "name": "python",
   "nbconvert_exporter": "python",
   "pygments_lexer": "ipython3",
   "version": "3.10.9"
  }
 },
 "nbformat": 4,
 "nbformat_minor": 5
}
